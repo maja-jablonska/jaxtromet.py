{
 "cells": [
  {
   "cell_type": "code",
   "execution_count": 1,
   "id": "997e2f0a",
   "metadata": {
    "ExecuteTime": {
     "end_time": "2022-10-18T09:24:18.220990Z",
     "start_time": "2022-10-18T09:24:16.653643Z"
    }
   },
   "outputs": [
    {
     "name": "stderr",
     "output_type": "stream",
     "text": [
      "WARNING:absl:No GPU/TPU found, falling back to CPU. (Set TF_CPP_MIN_LOG_LEVEL=0 and rerun for more info.)\n"
     ]
    }
   ],
   "source": [
    "import jaxtromet\n",
    "import jax\n",
    "import jax.numpy as jnp\n",
    "from astropy.time import Time\n",
    "import numpy as np\n",
    "from jax.config import config\n",
    "config.update(\"jax_debug_nans\", True)\n",
    "config.update(\"jax_enable_x64\", True)"
   ]
  },
  {
   "cell_type": "code",
   "execution_count": 22,
   "id": "4f2ae389",
   "metadata": {
    "ExecuteTime": {
     "end_time": "2022-10-18T09:24:18.228264Z",
     "start_time": "2022-10-18T09:24:18.223692Z"
    }
   },
   "outputs": [],
   "source": [
    "SOURCE_ID: int = 2467955656448455040\n",
    "RA = 27.998863499\n",
    "DEC = -5.161573806\n",
    "KAPPA = 8.144\n",
    "BLENDING_G = 1\n",
    "BASELINE_G = 20.41"
   ]
  },
  {
   "cell_type": "code",
   "execution_count": 23,
   "id": "e208b5c0",
   "metadata": {
    "ExecuteTime": {
     "end_time": "2022-10-18T09:24:18.965038Z",
     "start_time": "2022-10-18T09:24:18.230841Z"
    }
   },
   "outputs": [],
   "source": [
    "import scanninglaw.times\n",
    "from scanninglaw.source import Source\n",
    "from scanninglaw.config import config"
   ]
  },
  {
   "cell_type": "code",
   "execution_count": 24,
   "id": "8bdafd2b",
   "metadata": {
    "ExecuteTime": {
     "end_time": "2022-10-18T09:24:44.285186Z",
     "start_time": "2022-10-18T09:24:18.969394Z"
    }
   },
   "outputs": [
    {
     "name": "stdout",
     "output_type": "stream",
     "text": [
      "Loading auxilliary data ...\n",
      "t = 32.986 s\n",
      "  auxilliary:  22.812 s\n",
      "          sf:   2.756 s\n",
      "interpolator:   7.419 s\n"
     ]
    }
   ],
   "source": [
    "SCANNING_TIMES = scanninglaw.times.Times(version='dr3_nominal')"
   ]
  },
  {
   "cell_type": "code",
   "execution_count": 31,
   "id": "a9e17cc8",
   "metadata": {
    "ExecuteTime": {
     "end_time": "2022-10-18T09:24:44.300784Z",
     "start_time": "2022-10-18T09:24:44.288579Z"
    }
   },
   "outputs": [],
   "source": [
    "def define_lensed_quasar(ra, dec, mass_l, pi_lens,\n",
    "                         pmrac_lens, pmdec_lens, t_0, beta_0,\n",
    "                         epoch: float = 2016.):\n",
    "    \"\"\"\n",
    "    Defines astromet parameters for a microlensed quasar with assumed\n",
    "    parallax and proper motions of zero and a dark lens (blending=1)\n",
    "    Args:\n",
    "        - ra            float - right ascension, deg\n",
    "        - dec           float - declination, deg\n",
    "        - mass_l        float - lens mass in solar masses\n",
    "        - pi_lens       float - lens parallax in mas\n",
    "        - pmrac_lens    float - lens proper motion in rac direction in mas/yr\n",
    "        - pmdec_lens    float - lens proper motion in dec direction in mas/yr\n",
    "        - t_0           float - closest approach time\n",
    "        - beta_0        float - closest approach distance on the sky in mas\n",
    "    Returns:\n",
    "        - params        astromet parameters\n",
    "    \"\"\"\n",
    "    params = {}\n",
    "\n",
    "    params['drac'] = 0  # mas\n",
    "    params['ddec'] = 0  # mas\n",
    "\n",
    "    # binary parameters\n",
    "    # left default for a non-binary system\n",
    "    params['period'] = 1  # year\n",
    "    params['a'] = 0  # AU\n",
    "    params['e'] = 0.1\n",
    "    params['q'] = 0\n",
    "    params['l'] = 0  # assumed < 1 (though may not matter)\n",
    "    params['vtheta'] = jnp.pi / 4\n",
    "    params['vphi'] = jnp.pi / 4\n",
    "    params['vomega'] = 0\n",
    "    params['tperi'] = 0  # jyear\n",
    "\n",
    "    # blend parameters\n",
    "    params['blenddrac'] = 0  # mas\n",
    "    params['blendddec'] = 0  # mas\n",
    "\n",
    "    # Below are assumed to be derived from other params\n",
    "    # (I.e. not(!) specified by user)\n",
    "    params['totalmass'] = -1  # solar mass\n",
    "    params['Delta'] = -1\n",
    "\n",
    "    # the epoch determines when RA and Dec (and other astrometry)\n",
    "    # are centred - for dr3 it's 2016.0, dr2 2015.5, dr1 2015.0\n",
    "    params['epoch'] = epoch\n",
    "    \n",
    "    params['ra'] = ra\n",
    "    params['dec'] = dec\n",
    "\n",
    "    # source motion\n",
    "    params['parallax'] = 0.\n",
    "    params['pmrac'] = 0.\n",
    "    params['pmdec'] = 0.\n",
    "\n",
    "    # lens motion\n",
    "    params['blendparallax'] = pi_lens\n",
    "    params['blendpmrac'] = pmrac_lens\n",
    "    params['blendpmdec'] = pmdec_lens\n",
    "\n",
    "    # lensing event\n",
    "    params['thetaE'] = jnp.sqrt(KAPPA*mass_l*pi_lens)\n",
    "    params['blendl'] = 0.\n",
    "\n",
    "    t_0 = Time(t_0+2450000, format='jd').decimalyear\n",
    "    mu_rel = jnp.array([params['pmrac'] - params['blendpmrac'],\n",
    "                      params['pmdec'] - params['blendpmdec']])\n",
    "    offset_t0 = mu_rel*(t_0-params['epoch'])\n",
    "    offset_u0_dir = jnp.array([mu_rel[1], -mu_rel[0]])\n",
    "    offset_u0 = offset_u0_dir/jnp.linalg.norm(offset_u0_dir) * beta_0  # separation at t0\n",
    "    offset_mas = offset_t0 - offset_u0\n",
    "    params['blenddrac'], params['blendddec'] = offset_mas[0], offset_mas[1]\n",
    "\n",
    "    return params"
   ]
  },
  {
   "cell_type": "code",
   "execution_count": 32,
   "id": "6c0ef80c",
   "metadata": {
    "ExecuteTime": {
     "end_time": "2022-10-18T09:24:44.679162Z",
     "start_time": "2022-10-18T09:24:44.304180Z"
    }
   },
   "outputs": [
    {
     "data": {
      "text/plain": [
       "{'drac': 0,\n",
       " 'ddec': 0,\n",
       " 'period': 1,\n",
       " 'a': 0,\n",
       " 'e': 0.1,\n",
       " 'q': 0,\n",
       " 'l': 0,\n",
       " 'vtheta': 0.7853981633974483,\n",
       " 'vphi': 0.7853981633974483,\n",
       " 'vomega': 0,\n",
       " 'tperi': 0,\n",
       " 'blenddrac': DeviceArray(0.19066843, dtype=float64),\n",
       " 'blendddec': DeviceArray(1.22354514, dtype=float64),\n",
       " 'totalmass': -1,\n",
       " 'Delta': -1,\n",
       " 'epoch': 2016.0,\n",
       " 'ra': 27.998863499,\n",
       " 'dec': -5.161573806,\n",
       " 'parallax': 0.0,\n",
       " 'pmrac': 0.0,\n",
       " 'pmdec': 0.0,\n",
       " 'blendparallax': 0.125,\n",
       " 'blendpmrac': -1,\n",
       " 'blendpmdec': 1.0,\n",
       " 'thetaE': DeviceArray(319.06112267, dtype=float64, weak_type=True),\n",
       " 'blendl': 0.0}"
      ]
     },
     "execution_count": 32,
     "metadata": {},
     "output_type": "execute_result"
    }
   ],
   "source": [
    "params = define_lensed_quasar(RA, DEC, 1e5, 0.125, -1, 1., 7200., 1.)\n",
    "params"
   ]
  },
  {
   "cell_type": "code",
   "execution_count": 33,
   "id": "0b10a19a",
   "metadata": {
    "ExecuteTime": {
     "end_time": "2022-10-18T09:24:44.691366Z",
     "start_time": "2022-10-18T09:24:44.682304Z"
    }
   },
   "outputs": [],
   "source": [
    "def generate_times():\n",
    "    # get Gaia scanning pattern for the field\n",
    "    c = Source(RA,\n",
    "               DEC,\n",
    "               unit='deg')\n",
    "    sl = SCANNING_TIMES(c,\n",
    "                        return_times=True,\n",
    "                        return_angles=True)\n",
    "    ts = 2010 + np.squeeze(np.hstack(sl['times']))/365.25\n",
    "    \n",
    "    sorted_arg_ts = np.argsort(ts)\n",
    "    \n",
    "    ts = np.double(ts[sorted_arg_ts])\n",
    "    phis = np.double(np.squeeze(np.hstack(sl['angles']))[sorted_arg_ts])\n",
    "    \n",
    "    return ts, phis"
   ]
  },
  {
   "cell_type": "code",
   "execution_count": 34,
   "id": "6fa66a96",
   "metadata": {
    "ExecuteTime": {
     "end_time": "2022-10-18T09:24:44.829821Z",
     "start_time": "2022-10-18T09:24:44.694335Z"
    }
   },
   "outputs": [],
   "source": [
    "# TODO: write utility functions for those\n",
    "# for now, these are global\n",
    "times, phis = generate_times()\n",
    "times = jnp.array(times)\n",
    "phis = jnp.array(phis)\n",
    "barypos = jaxtromet.barycentricPosition(times)"
   ]
  },
  {
   "cell_type": "code",
   "execution_count": 35,
   "id": "6f9de700",
   "metadata": {
    "ExecuteTime": {
     "end_time": "2022-10-18T09:24:44.845167Z",
     "start_time": "2022-10-18T09:24:44.832352Z"
    }
   },
   "outputs": [],
   "source": [
    "def mock_observations(mass_lens: jnp.float32, \n",
    "                      pi_lens: jnp.float32,\n",
    "                      pmrac_lens: jnp.float32,\n",
    "                      pmdec_lens: jnp.float32,\n",
    "                      t_0: jnp.float32,\n",
    "                      beta_0: jnp.float32,\n",
    "                      al_error_scale: jnp.float32,\n",
    "                      key):\n",
    "  \n",
    "    params = define_lensed_quasar(RA, DEC, mass_lens, pi_lens,\n",
    "                         pmrac_lens, pmdec_lens, t_0, beta_0)\n",
    "    \n",
    "    ras, decs, mag_diff = jaxtromet.track(times, barypos, params)\n",
    "    \n",
    "    t_obs, x_obs, phi_obs, rac_obs, dec_obs = jaxtromet.mock_obs(times,\n",
    "                                                                 phis,\n",
    "                                                                 ras,\n",
    "                                                                 decs,\n",
    "                                                                 err=jaxtromet.sigma_ast(BASELINE_G))\n",
    "    gaia_output=jaxtromet.gaia_results(jaxtromet.fit(t_obs, jaxtromet.barycentricPosition(t_obs), x_obs, phi_obs, jaxtromet.sigma_ast(BASELINE_G), RA, DEC))\n",
    "    return jaxtromet.fit(t_obs, jaxtromet.barycentricPosition(t_obs), x_obs, phi_obs, jaxtromet.sigma_ast(BASELINE_G), RA, DEC)"
   ]
  },
  {
   "cell_type": "code",
   "execution_count": 36,
   "id": "196d3fc3",
   "metadata": {
    "ExecuteTime": {
     "end_time": "2022-10-18T09:24:52.103789Z",
     "start_time": "2022-10-18T09:24:44.897721Z"
    }
   },
   "outputs": [
    {
     "data": {
      "text/plain": [
       "{'UWE': DeviceArray(0.97978907, dtype=float64),\n",
       " 'chi2': DeviceArray(608.63152123, dtype=float64),\n",
       " 'ddec': DeviceArray(-0.02952076, dtype=float64),\n",
       " 'ddec_error': DeviceArray(0.42573744, dtype=float64),\n",
       " 'ddec_parallax_corr': DeviceArray(-0.05771815, dtype=float64),\n",
       " 'ddec_pmdec_corr': DeviceArray(-0.27142438, dtype=float64),\n",
       " 'ddec_pmrac_corr': DeviceArray(0.32423594, dtype=float64),\n",
       " 'dec_ref': DeviceArray(-5.16157381, dtype=float64, weak_type=True),\n",
       " 'drac': DeviceArray(-0.4680944, dtype=float64),\n",
       " 'drac_ddec_corr': DeviceArray(0.358099, dtype=float64),\n",
       " 'drac_error': DeviceArray(0.56510641, dtype=float64),\n",
       " 'drac_parallax_corr': DeviceArray(0.07066067, dtype=float64),\n",
       " 'drac_pmdec_corr': DeviceArray(0.2080313, dtype=float64),\n",
       " 'drac_pmrac_corr': DeviceArray(-0.07655212, dtype=float64),\n",
       " 'excess_noise': DeviceArray(0., dtype=float64),\n",
       " 'n_good_obs': DeviceArray(639, dtype=int64),\n",
       " 'n_obs': DeviceArray(639, dtype=int64, weak_type=True),\n",
       " 'parallax': DeviceArray(0.82601988, dtype=float64),\n",
       " 'parallax_error': DeviceArray(0.69493345, dtype=float64),\n",
       " 'parallax_pmdec_corr': DeviceArray(0.22092977, dtype=float64),\n",
       " 'parallax_pmrac_corr': DeviceArray(-0.13187898, dtype=float64),\n",
       " 'params_solved': DeviceArray(5, dtype=int64, weak_type=True),\n",
       " 'pmdec': DeviceArray(-0.52731302, dtype=float64),\n",
       " 'pmdec_error': DeviceArray(0.46789094, dtype=float64),\n",
       " 'pmrac': DeviceArray(-0.09715075, dtype=float64),\n",
       " 'pmrac_error': DeviceArray(0.79279975, dtype=float64),\n",
       " 'pmrac_pmdec_corr': DeviceArray(0.24432959, dtype=float64),\n",
       " 'ra_ref': DeviceArray(27.9988635, dtype=float64, weak_type=True),\n",
       " 'vis_periods': DeviceArray(17, dtype=int64)}"
      ]
     },
     "execution_count": 36,
     "metadata": {},
     "output_type": "execute_result"
    }
   ],
   "source": [
    "key, _ = jax.random.split(jax.random.PRNGKey(4201231), 2)\n",
    "mock_observations(100., 0.125, 1., 1., 7200., 1., 1., key)"
   ]
  },
  {
   "cell_type": "code",
   "execution_count": null,
   "id": "66e8cc17",
   "metadata": {},
   "outputs": [],
   "source": []
  }
 ],
 "metadata": {
  "kernelspec": {
   "display_name": "Python 3.9.10 ('astronomy')",
   "language": "python",
   "name": "python3"
  },
  "language_info": {
   "codemirror_mode": {
    "name": "ipython",
    "version": 3
   },
   "file_extension": ".py",
   "mimetype": "text/x-python",
   "name": "python",
   "nbconvert_exporter": "python",
   "pygments_lexer": "ipython3",
   "version": "3.9.10"
  },
  "toc": {
   "base_numbering": 1,
   "nav_menu": {},
   "number_sections": true,
   "sideBar": true,
   "skip_h1_title": false,
   "title_cell": "Table of Contents",
   "title_sidebar": "Contents",
   "toc_cell": false,
   "toc_position": {},
   "toc_section_display": true,
   "toc_window_display": false
  },
  "varInspector": {
   "cols": {
    "lenName": 16,
    "lenType": 16,
    "lenVar": 40
   },
   "kernels_config": {
    "python": {
     "delete_cmd_postfix": "",
     "delete_cmd_prefix": "del ",
     "library": "var_list.py",
     "varRefreshCmd": "print(var_dic_list())"
    },
    "r": {
     "delete_cmd_postfix": ") ",
     "delete_cmd_prefix": "rm(",
     "library": "var_list.r",
     "varRefreshCmd": "cat(var_dic_list()) "
    }
   },
   "types_to_exclude": [
    "module",
    "function",
    "builtin_function_or_method",
    "instance",
    "_Feature"
   ],
   "window_display": false
  },
  "vscode": {
   "interpreter": {
    "hash": "fada0d832d2547f9f1dff5229b543955ff8ad75cc0a8562bb60785250e0c2cfa"
   }
  }
 },
 "nbformat": 4,
 "nbformat_minor": 5
}
